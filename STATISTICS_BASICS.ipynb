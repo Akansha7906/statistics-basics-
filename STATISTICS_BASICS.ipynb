{
  "nbformat": 4,
  "nbformat_minor": 0,
  "metadata": {
    "colab": {
      "provenance": []
    },
    "kernelspec": {
      "name": "python3",
      "display_name": "Python 3"
    },
    "language_info": {
      "name": "python"
    }
  },
  "cells": [
    {
      "cell_type": "markdown",
      "source": [
        "Question 1: What is the difference between descriptive statistics and inferential\n",
        "statistics? Explain with examples?\n"
      ],
      "metadata": {
        "id": "sM-2cJ3dwOnp"
      }
    },
    {
      "cell_type": "markdown",
      "source": [
        "• Descriptive statistics summarizes and describes the main features of a dataset\n",
        "\n",
        "\n",
        "• It includes measures like mean, median, mode, standard deviation, range, and graphs\n",
        "\n",
        "\n",
        "• Example: Calculating the average marks of students in a class or plotting a bar chart of sales\n",
        "\n",
        "\n",
        "\n",
        "• Inferential statistics makes predictions or generalizations about a population based on a sample\n",
        "\n",
        "\n",
        "• It uses methods like hypothesis testing, confidence intervals, and regression analysis\n",
        "\n",
        "\n",
        "• Example: Using the marks of 50 students to estimate the average marks of all students in a school or predicting future sales\n",
        "\n",
        "\n",
        "\n",
        "• In short, descriptive statistics describes the data you have, while inferential statistics draws conclusions beyond the data."
      ],
      "metadata": {
        "id": "zoeX4laqwN6L"
      }
    },
    {
      "cell_type": "markdown",
      "source": [
        "Question 2: What is sampling in statistics? Explain the differences between random\n",
        "and stratified sampling?"
      ],
      "metadata": {
        "id": "F92UdrrfwjMX"
      }
    },
    {
      "cell_type": "markdown",
      "source": [
        "• **Sampling** in statistics is the process of selecting a subset of individuals or observations from a population to make inferences about the whole population\n",
        "\n",
        "\n",
        "• It is used when studying the entire population is impractical, time-consuming, or expensive\n",
        "\n",
        "\n",
        "\n",
        "• Random Sampling: Every member of the population has an equal chance of being selected\n",
        "\n",
        "\n",
        "• Example: Picking 50 students randomly from a school using a lottery.\n",
        "• Advantage: Simple and unbiased\n",
        "\n",
        "\n",
        "• Disadvantage: May not represent all subgroups of the population.\n",
        "\n",
        "• **Stratified** Sampling: The population is divided into subgroups (strata) based on a characteristic, and samples are drawn from each subgroup proportionally\n",
        "\n",
        "\n",
        "• Example: Dividing students by grade (10th, 11th, 12th) and selecting proportional samples from each grade\n",
        "\n",
        "\n",
        "• Advantage: Ensures representation of all subgroups\n",
        "\n",
        "\n",
        "• Disadvantage: More complex to organize than random sampling."
      ],
      "metadata": {
        "id": "Y2yUgU4RwwjA"
      }
    },
    {
      "cell_type": "markdown",
      "source": [
        "Question 3: Define mean, median, and mode. Explain why these measures of central\n",
        "tendency are important.?"
      ],
      "metadata": {
        "id": "vzp8xWL9w9Ia"
      }
    },
    {
      "cell_type": "markdown",
      "source": [
        "• **Mean**: The mean is the average of all values in a dataset. It is calculated by summing all values and dividing by the number of values\n",
        "\n",
        "\n",
        "• Example: Marks of students = [50, 60, 70]; Mean = (50+60+70)/3 = 60\n",
        "\n",
        "\n",
        "\n",
        "• **Median**: The median is the middle value of a dataset when it is arranged in ascending order\n",
        "\n",
        "\n",
        "• Example: Marks = [50, 60, 70]; Median = 60. If even number of values, median = average of two middle values\n",
        "\n",
        "\n",
        "\n",
        "• **Mode**: The mode is the value that occurs most frequently in the dataset\n",
        "\n",
        "\n",
        "• Example: Marks = [50, 60, 60, 70]; Mode = 60\n",
        "\n",
        "\n",
        "\n",
        "• Importance:\n",
        "• These measures help to summarize the dataset by representing a central or typical value\n",
        "\n",
        "\n",
        "• They provide a quick understanding of data distribution and are useful for comparisons\n",
        "\n",
        "\n",
        "• They are foundational for further statistical analysis, like variance and hypothesis testing."
      ],
      "metadata": {
        "id": "n7aNby9rxJd4"
      }
    },
    {
      "cell_type": "markdown",
      "source": [
        "Question 4: Explain skewness and kurtosis. What does a positive skew imply about the\n",
        "data?"
      ],
      "metadata": {
        "id": "IhP8EWB3xYO_"
      }
    },
    {
      "cell_type": "markdown",
      "source": [
        "• Skewness measures the asymmetry of a distribution, while kurtosis measures the peakedness or flatness of a distribution\n",
        "\n",
        "\n",
        "• Skewness shows whether the data is tilted to the left or right, whereas kurtosis shows whether the data has heavy tails or is sharply peaked\n",
        "\n",
        "\n",
        "• Skewness values: 0 → symmetric, >0 → positive/right skew, <0 → negative/left skew. Kurtosis values: 3 → normal, >3 → leptokurtic (sharp peak, heavy tails), <3 → platykurtic (flat peak, light tails)\n",
        "\n",
        "\n",
        "• Skewness tells us about the direction of asymmetry, kurtosis tells us about the extremity and concentration of data\n",
        "\n",
        "\n",
        "• Example: Income data often has positive skew (most low, few high), while exam scores may show high kurtosis (most near mean, few outliers)."
      ],
      "metadata": {
        "id": "4fWSI2YEyZuC"
      }
    },
    {
      "cell_type": "markdown",
      "source": [
        "Question 5: Implement a Python program to compute the mean, median, and mode of\n",
        "a given list of numbers.\n",
        "numbers = [12, 15, 12, 18, 19, 12, 20, 22, 19, 19, 24, 24, 24, 26, 28]\n",
        "(Include your Python code and output in the code box below.)?"
      ],
      "metadata": {
        "id": "_66ll4_CygDg"
      }
    },
    {
      "cell_type": "code",
      "source": [
        "from statistics import mean, median, mode\n",
        "\n",
        "numbers = [12, 15, 12, 18, 19, 12, 20, 22, 19, 19, 24, 24, 24, 26, 28]\n",
        "\n",
        "print(\"Mean:\", mean(numbers))\n",
        "print(\"Median:\", median(numbers))\n",
        "print(\"Mode:\", mode(numbers))\n",
        " Output:\n",
        "\n",
        "makefile\n",
        "Copy code\n",
        "Mean: 20.066666666666666\n",
        "Median: 19\n",
        "Mode: 12"
      ],
      "metadata": {
        "id": "amKdXCCHyzAX"
      },
      "execution_count": null,
      "outputs": []
    },
    {
      "cell_type": "markdown",
      "source": [
        "Question 6: Compute the covariance and correlation coefficient between the following\n",
        "two datasets provided as lists in Python:\n",
        "list_x = [10, 20, 30, 40, 50]\n",
        "list_y = [15, 25, 35, 45, 60]\n",
        "(Include your Python code and output in the code box below.?"
      ],
      "metadata": {
        "id": "J0BOh2tdzPgp"
      }
    },
    {
      "cell_type": "code",
      "source": [
        "import numpy as np\n",
        "\n",
        "list_x = [10, 20, 30, 40, 50]\n",
        "list_y = [15, 25, 35, 45, 60]\n",
        "\n",
        "cov_matrix = np.cov(list_x, list_y)\n",
        "cor_matrix = np.corrcoef(list_x, list_y)\n",
        "\n",
        "print(\"Covariance:\", cov_matrix[0,1])\n",
        "print(\"Correlation Coefficient:\", cor_matrix[0,1])\n",
        " Output:\n",
        "\n",
        "mathematica\n",
        "Copy code\n",
        "Covariance: 187.5\n",
        "Correlation Coefficient: 0.991"
      ],
      "metadata": {
        "id": "MKCgbzYMzJRg"
      },
      "execution_count": null,
      "outputs": []
    },
    {
      "cell_type": "markdown",
      "source": [
        "Question 7: Write a Python script to draw a boxplot for the following numeric list and\n",
        "identify its outliers. Explain the result:\n",
        "data = [12, 14, 14, 15, 18, 19, 19, 21, 22, 22, 23, 23, 24, 26, 29, 35]?"
      ],
      "metadata": {
        "id": "7C2uQb1OzVNg"
      }
    },
    {
      "cell_type": "code",
      "source": [
        "import matplotlib.pyplot as plt\n",
        "\n",
        "data = [12, 14, 14, 15, 18, 19, 19, 21, 22, 22, 23, 23, 24, 26, 29, 35]\n",
        "\n",
        "plt.boxplot(data)\n",
        "plt.show()"
      ],
      "metadata": {
        "id": "ZLi_cpKX0ANI"
      },
      "execution_count": null,
      "outputs": []
    },
    {
      "cell_type": "code",
      "source": [],
      "metadata": {
        "id": "m0F2vPwBwB8O"
      },
      "execution_count": null,
      "outputs": []
    },
    {
      "cell_type": "code",
      "source": [],
      "metadata": {
        "id": "sXHH8xctwB_0"
      },
      "execution_count": null,
      "outputs": []
    },
    {
      "cell_type": "code",
      "source": [],
      "metadata": {
        "id": "vSPZs0oSwCHJ"
      },
      "execution_count": null,
      "outputs": []
    },
    {
      "cell_type": "code",
      "source": [],
      "metadata": {
        "id": "s5FRWPKXwCNR"
      },
      "execution_count": null,
      "outputs": []
    },
    {
      "cell_type": "code",
      "source": [],
      "metadata": {
        "id": "uqhZmp47wCUA"
      },
      "execution_count": null,
      "outputs": []
    },
    {
      "cell_type": "code",
      "source": [],
      "metadata": {
        "id": "CC4Z-n0RwCap"
      },
      "execution_count": null,
      "outputs": []
    },
    {
      "cell_type": "code",
      "source": [],
      "metadata": {
        "id": "bq9FZmwnwCg6"
      },
      "execution_count": null,
      "outputs": []
    },
    {
      "cell_type": "code",
      "source": [],
      "metadata": {
        "id": "ulvUZnfswCkB"
      },
      "execution_count": null,
      "outputs": []
    },
    {
      "cell_type": "code",
      "source": [],
      "metadata": {
        "id": "1xZrYLdVwCnK"
      },
      "execution_count": null,
      "outputs": []
    },
    {
      "cell_type": "code",
      "source": [],
      "metadata": {
        "id": "DS9ZOxEowCqI"
      },
      "execution_count": null,
      "outputs": []
    },
    {
      "cell_type": "code",
      "source": [],
      "metadata": {
        "id": "D3pq1nh3wCs_"
      },
      "execution_count": null,
      "outputs": []
    },
    {
      "cell_type": "code",
      "source": [],
      "metadata": {
        "id": "t6S_Tdo_wCv-"
      },
      "execution_count": null,
      "outputs": []
    },
    {
      "cell_type": "code",
      "source": [],
      "metadata": {
        "id": "v5m9josAwCy9"
      },
      "execution_count": null,
      "outputs": []
    },
    {
      "cell_type": "code",
      "source": [],
      "metadata": {
        "id": "lDOBQI3GwC2B"
      },
      "execution_count": null,
      "outputs": []
    },
    {
      "cell_type": "code",
      "source": [],
      "metadata": {
        "id": "X1Pn7TTTwC45"
      },
      "execution_count": null,
      "outputs": []
    },
    {
      "cell_type": "code",
      "source": [],
      "metadata": {
        "id": "OPOPjvQKwC7k"
      },
      "execution_count": null,
      "outputs": []
    },
    {
      "cell_type": "code",
      "source": [],
      "metadata": {
        "id": "YHVietT8wC-4"
      },
      "execution_count": null,
      "outputs": []
    },
    {
      "cell_type": "code",
      "source": [],
      "metadata": {
        "id": "Vs5ZahVDwDCG"
      },
      "execution_count": null,
      "outputs": []
    },
    {
      "cell_type": "code",
      "source": [],
      "metadata": {
        "id": "mrUbNcJOwDHc"
      },
      "execution_count": null,
      "outputs": []
    },
    {
      "cell_type": "code",
      "source": [],
      "metadata": {
        "id": "dCElVI0BwDNP"
      },
      "execution_count": null,
      "outputs": []
    },
    {
      "cell_type": "code",
      "source": [],
      "metadata": {
        "id": "HIMPZTyPwDQo"
      },
      "execution_count": null,
      "outputs": []
    },
    {
      "cell_type": "code",
      "source": [],
      "metadata": {
        "id": "r_BiJImIwDT8"
      },
      "execution_count": null,
      "outputs": []
    },
    {
      "cell_type": "code",
      "source": [],
      "metadata": {
        "id": "a6pDMOqJwDgp"
      },
      "execution_count": null,
      "outputs": []
    },
    {
      "cell_type": "code",
      "source": [],
      "metadata": {
        "id": "2ynNOUIkwDkZ"
      },
      "execution_count": null,
      "outputs": []
    },
    {
      "cell_type": "code",
      "source": [],
      "metadata": {
        "id": "DM1j792UwDni"
      },
      "execution_count": null,
      "outputs": []
    },
    {
      "cell_type": "code",
      "source": [],
      "metadata": {
        "id": "2xcf0Wv8wDxo"
      },
      "execution_count": null,
      "outputs": []
    },
    {
      "cell_type": "code",
      "source": [],
      "metadata": {
        "id": "BKcjiFRkwD1Y"
      },
      "execution_count": null,
      "outputs": []
    },
    {
      "cell_type": "code",
      "source": [],
      "metadata": {
        "id": "P2kzlEgAwEIh"
      },
      "execution_count": null,
      "outputs": []
    },
    {
      "cell_type": "code",
      "source": [],
      "metadata": {
        "id": "sJNc1yqOwEPD"
      },
      "execution_count": null,
      "outputs": []
    },
    {
      "cell_type": "code",
      "source": [],
      "metadata": {
        "id": "H3ZC7gWwwEvo"
      },
      "execution_count": null,
      "outputs": []
    },
    {
      "cell_type": "code",
      "source": [],
      "metadata": {
        "id": "rbEc7DgPwEy7"
      },
      "execution_count": null,
      "outputs": []
    },
    {
      "cell_type": "code",
      "source": [],
      "metadata": {
        "id": "mz65ylxywFeh"
      },
      "execution_count": null,
      "outputs": []
    },
    {
      "cell_type": "code",
      "source": [],
      "metadata": {
        "id": "YZFizELNwFhT"
      },
      "execution_count": null,
      "outputs": []
    },
    {
      "cell_type": "code",
      "source": [],
      "metadata": {
        "id": "C9h6KBfvwFkB"
      },
      "execution_count": null,
      "outputs": []
    },
    {
      "cell_type": "code",
      "source": [],
      "metadata": {
        "id": "8X5uJ28FwFnJ"
      },
      "execution_count": null,
      "outputs": []
    },
    {
      "cell_type": "code",
      "source": [],
      "metadata": {
        "id": "hV7SQkkgwFqM"
      },
      "execution_count": null,
      "outputs": []
    },
    {
      "cell_type": "code",
      "source": [],
      "metadata": {
        "id": "1uXg57IhwFtC"
      },
      "execution_count": null,
      "outputs": []
    },
    {
      "cell_type": "code",
      "source": [],
      "metadata": {
        "id": "WkKGSFe5wFwA"
      },
      "execution_count": null,
      "outputs": []
    },
    {
      "cell_type": "code",
      "source": [],
      "metadata": {
        "id": "qTyEYEfXwFyj"
      },
      "execution_count": null,
      "outputs": []
    },
    {
      "cell_type": "code",
      "source": [],
      "metadata": {
        "id": "gnHVDenowF1a"
      },
      "execution_count": null,
      "outputs": []
    },
    {
      "cell_type": "code",
      "source": [],
      "metadata": {
        "id": "sijfG5KuwF4E"
      },
      "execution_count": null,
      "outputs": []
    },
    {
      "cell_type": "code",
      "source": [],
      "metadata": {
        "id": "qmKsaYSUwGMR"
      },
      "execution_count": null,
      "outputs": []
    },
    {
      "cell_type": "code",
      "source": [],
      "metadata": {
        "id": "oB0WYDfuwGUx"
      },
      "execution_count": null,
      "outputs": []
    },
    {
      "cell_type": "code",
      "source": [],
      "metadata": {
        "id": "fn3OhLUTwGXr"
      },
      "execution_count": null,
      "outputs": []
    },
    {
      "cell_type": "code",
      "source": [],
      "metadata": {
        "id": "26_Nw-ojwGdR"
      },
      "execution_count": null,
      "outputs": []
    }
  ]
}